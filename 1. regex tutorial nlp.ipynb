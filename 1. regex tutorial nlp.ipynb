{
 "cells": [
  {
   "cell_type": "code",
   "execution_count": null,
   "metadata": {},
   "outputs": [],
   "source": [
    "import re "
   ]
  },
  {
   "cell_type": "code",
   "execution_count": 58,
   "metadata": {},
   "outputs": [],
   "source": [
    "def get_pattern_match(pattern,text):\n",
    "    matches = re.findall(pattern,text)\n",
    "    if matches:\n",
    "        return matches[0]\n"
   ]
  },
  {
   "cell_type": "markdown",
   "metadata": {},
   "source": [
    "# Data Extraction from Chats\n",
    "\n",
    "In this notebook, we are extracting phone numbers, email addresses, and order numbers from chat messages using regular expressions.\n",
    "\n",
    "## Variables:\n",
    "- **chat1, chat2, chat3, chat4, chat5, chat6**: Strings containing chat messages.\n",
    "- **phone_num_pattern**: Regex pattern to match phone numbers.\n",
    "- **email_pattern**: Regex pattern to match email addresses.\n",
    "- **order_num_pattern**: Regex pattern to match order numbers.\n",
    "\n",
    "## Extracted Data:\n",
    "- **matches1, matches2, matches3**: Lists containing extracted phone numbers.\n",
    "- **matches4, matches5, matches6**: Lists containing extracted email addresses.\n",
    "- **matches7**: List containing extracted order numbers.\n"
   ]
  },
  {
   "cell_type": "code",
   "execution_count": 42,
   "metadata": {},
   "outputs": [],
   "source": [
    "chat1 = 'codebasics: .you.ask.lot.of.questions.😠.. 1235678912, .abc@xyz.com'\n",
    "chat2 = 'codebasics: .here.it.is :. (123)-567-8912,.ab_X4@xyz.com'\n",
    "chat3 = 'codebasics: .yes, .phone: .1235678912.email :. abc@xyz.com'\n",
    "chat4 = 'codebasics: Hello, I am having an issue with my order # 412889912'\n",
    "chat5 = 'codebasics: I have a problem with my order number 412889912'\n",
    "chat6 = 'codebasics: My order 412889912 is having an issue. I was charged 300$ when online it says 280$'\n",
    "\n"
   ]
  },
  {
   "cell_type": "code",
   "execution_count": 45,
   "metadata": {},
   "outputs": [
    {
     "name": "stdout",
     "output_type": "stream",
     "text": [
      "['412889912']\n"
     ]
    }
   ],
   "source": [
    "phone_num_pattern = r\"\\d{10}|\\(\\d{3}\\)-\\d{3}-\\d{4}\"\n",
    "email_pattern = r\"[a-z0-9A-Z_]*@[a-z0-9A-Z]*\\.[a-zA-Z]*\"\n",
    "order_num_pattern = r\"order[^\\d]*(\\d*)\"\n",
    "matches1 = re.findall(phone_num_pattern, chat1)\n",
    "matches2= re.findall(phone_num_pattern, chat2)\n",
    "matches3 = re.findall(phone_num_pattern, chat3)\n",
    "matches4 = re.findall(email_pattern, chat1)\n",
    "matches5 = re.findall(email_pattern, chat2)\n",
    "matches6 = re.findall(email_pattern, chat3)\n",
    "matches7 = re.findall(order_num_pattern, chat4)\n",
    "\n",
    "print(matches7)"
   ]
  },
  {
   "cell_type": "markdown",
   "metadata": {},
   "source": [
    "\n",
    "\n",
    "## Web Scraping\n",
    "Web scraping is the process of automatically extracting data from websites, web pages, and online documents.\n",
    "\n"
   ]
  },
  {
   "cell_type": "code",
   "execution_count": 47,
   "metadata": {},
   "outputs": [],
   "source": [
    "text = '''Born\tElon Reeve Musk\n",
    "June 28, 1971 (age 53)\n",
    "Pretoria, Transvaal, South Africa\n",
    "Citizenship\t\n",
    "South Africa\n",
    "Canada\n",
    "United States (from 2002)\n",
    "Education\tUniversity of Pennsylvania (BA, BS)\n",
    "Occupation\tBusinessman\n",
    "Title\t\n",
    "Founder, CEO, and chief engineer of SpaceX\n",
    "CEO and product architect of Tesla, Inc.\n",
    "Owner, CTO and executive chairman of X (formerly Twitter)\n",
    "Founder of The Boring Company, X Corp., and xAI\n",
    "Co-founder of Neuralink, OpenAI, Zip2, and X.com (part of PayPal)\n",
    "President of the Musk Foundation\n",
    "Spouses\t\n",
    "Justine Wilson\n",
    "​\n",
    "​(m. 2000; div. 2008)​\n",
    "Talulah Riley\n",
    "​\n",
    "​(m. 2010; div. 2012)​\n",
    "​\n",
    "​(m. 2013; div. 2016)​\n",
    "'''"
   ]
  },
  {
   "cell_type": "code",
   "execution_count": 66,
   "metadata": {},
   "outputs": [
    {
     "data": {
      "text/plain": [
       "{'name': '\\tElon Reeve Musk',\n",
       " 'age': 53,\n",
       " 'birth_year': 'June 28, 1971',\n",
       " 'birth_place': 'Pretoria, Transvaal, South Africa'}"
      ]
     },
     "execution_count": 66,
     "metadata": {},
     "output_type": "execute_result"
    }
   ],
   "source": [
    "def get_personal_info(text):\n",
    "    Age_pattern = r\"age (\\d+)\"\n",
    "    name_pattern = r\"Born(.*)\\n\"\n",
    "    birth_year_pattern = r\"Born.*\\n(.*)\\(age\"\n",
    "    birth_place_pattern = r\"age.*\\n(.*)\"\n",
    "    age = get_pattern_match (Age_pattern,text)\n",
    "    name = get_pattern_match (name_pattern,text)\n",
    "    birth_year = get_pattern_match (birth_year_pattern,text)\n",
    "    birth_place = get_pattern_match (birth_place_pattern,text)\n",
    "\n",
    "    return{\n",
    "        \"name\": name,\n",
    "        \"age\": int(age),\n",
    "        \"birth_year\": birth_year.strip(),\n",
    "        \"birth_place\": birth_place.strip()\n",
    "    }\n",
    "\n",
    "get_personal_info(text)"
   ]
  },
  {
   "cell_type": "markdown",
   "metadata": {},
   "source": [
    "```markdown\n",
    "## Exercise\n",
    "```\n"
   ]
  },
  {
   "cell_type": "code",
   "execution_count": 68,
   "metadata": {},
   "outputs": [
    {
     "data": {
      "text/plain": [
       "['elonmusk']"
      ]
     },
     "execution_count": 68,
     "metadata": {},
     "output_type": "execute_result"
    }
   ],
   "source": [
    "text = '''\n",
    "Follow our leader Elon musk on twitter here: https://twitter.com/elonmusk, more information \n",
    "on Tesla's products can be found at https://www.tesla.com/. Also here are leading influencers \n",
    "for tesla related news,\n",
    "https://twitter.com/teslarati\n",
    "https://twitter.com/dummy_tesla\n",
    "https://twitter.com/dummy_2_tesla\n",
    "'''\n",
    "pattern = 'https://twitter.com/(.*),' # todo: type your regex here\n",
    "\n",
    "re.findall(pattern, text)\n"
   ]
  }
 ],
 "metadata": {
  "kernelspec": {
   "display_name": "base",
   "language": "python",
   "name": "python3"
  },
  "language_info": {
   "codemirror_mode": {
    "name": "ipython",
    "version": 3
   },
   "file_extension": ".py",
   "mimetype": "text/x-python",
   "name": "python",
   "nbconvert_exporter": "python",
   "pygments_lexer": "ipython3",
   "version": "3.12.7"
  }
 },
 "nbformat": 4,
 "nbformat_minor": 2
}
