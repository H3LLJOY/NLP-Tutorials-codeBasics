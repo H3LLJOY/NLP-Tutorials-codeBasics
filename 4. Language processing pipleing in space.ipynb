{
 "cells": [
  {
   "cell_type": "markdown",
   "metadata": {},
   "source": [
    "![alt text](image-10.png)\n",
    "![alt text](image-11.png)"
   ]
  },
  {
   "cell_type": "code",
   "execution_count": 2,
   "metadata": {},
   "outputs": [],
   "source": [
    "import spacy"
   ]
  },
  {
   "cell_type": "code",
   "execution_count": 3,
   "metadata": {},
   "outputs": [
    {
     "name": "stdout",
     "output_type": "stream",
     "text": [
      "captain\n",
      "america\n",
      "ate\n",
      "100\n",
      "$\n",
      "of\n",
      "samosa\n",
      ".\n",
      "Then\n",
      "he\n",
      "said\n",
      "I\n",
      "can\n",
      "do\n",
      "this\n",
      "all\n",
      "day\n"
     ]
    }
   ],
   "source": [
    "nlp = spacy.blank(\"en\") # load blank english model : මේකේ tokenizer එක එන නිසා ටෝකන් වලට කඩා ගන්න පුලුවන්. නමුත් pipeline එකක් නැති නිස එකෙන් කරන වෑඩ කරන්න බෑ.\n",
    "\n",
    "doc = nlp(\"captain america ate 100$ of samosa. Then he said I can do this all day\")\n",
    "\n",
    "for token in doc:\n",
    "    print(token)"
   ]
  },
  {
   "cell_type": "code",
   "execution_count": 6,
   "metadata": {},
   "outputs": [
    {
     "data": {
      "text/plain": [
       "[]"
      ]
     },
     "execution_count": 6,
     "metadata": {},
     "output_type": "execute_result"
    }
   ],
   "source": [
    "nlp.pipe_names"
   ]
  },
  {
   "cell_type": "markdown",
   "metadata": {},
   "source": [
    "යම් language එකකට අදාළව pretrained pipeline අපිට download කර ගන්න පුලුවන්. EX: $python -m spacy download zh_core_web_sm"
   ]
  },
  {
   "cell_type": "code",
   "execution_count": 8,
   "metadata": {},
   "outputs": [],
   "source": [
    "nlp = spacy.load(\"en_core_web_sm\")"
   ]
  },
  {
   "cell_type": "code",
   "execution_count": 9,
   "metadata": {},
   "outputs": [
    {
     "data": {
      "text/plain": [
       "['tok2vec', 'tagger', 'parser', 'attribute_ruler', 'lemmatizer', 'ner']"
      ]
     },
     "execution_count": 9,
     "metadata": {},
     "output_type": "execute_result"
    }
   ],
   "source": [
    "nlp.pipe_names"
   ]
  },
  {
   "cell_type": "markdown",
   "metadata": {},
   "source": [
    "| Component         | Use Case                                         | Purpose                                              | Examples                                                                 |\n",
    "|--------------------|-------------------------------------------------|------------------------------------------------------|--------------------------------------------------------------------------|\n",
    "| **`tok2vec`**     | Creates word embeddings (vector representations)| Provides features for downstream tasks              | Feature extraction, enhancing pre-trained components                    |\n",
    "| **`tagger`**      | Assigns part-of-speech (POS) tags               | Understands grammatical structure and syntactic roles| Linguistic analysis, sentiment analysis, filtering by grammatical type  |\n",
    "| **`parser`**      | Analyzes syntactic dependencies                 | Determines relationships between words              | Extracting subject-verb-object triples, building knowledge graphs       |\n",
    "| **`attribute_ruler`** | Applies custom rules to set attributes       | Fine-tunes or overrides default behavior            | Correcting token attributes, normalizing domain-specific text patterns  |\n",
    "| **`lemmatizer`**  | Converts words to their base form (lemma)       | Reduces inflected forms for easier analysis         | Text normalization for search, simplifying text for language modeling   |\n",
    "| **`ner`**         | Identifies and classifies named entities        | Extracts structured information from text           | Extracting names, dates, and locations from text                        |\n"
   ]
  },
  {
   "cell_type": "code",
   "execution_count": 10,
   "metadata": {},
   "outputs": [
    {
     "name": "stdout",
     "output_type": "stream",
     "text": [
      "captain | PROPN | captain\n",
      "america | PROPN | america\n",
      "ate | VERB | eat\n",
      "100 | NUM | 100\n",
      "$ | NUM | $\n",
      "of | ADP | of\n",
      "samosa | PROPN | samosa\n",
      ". | PUNCT | .\n",
      "Then | ADV | then\n",
      "he | PRON | he\n",
      "said | VERB | say\n",
      "I | PRON | I\n",
      "can | AUX | can\n",
      "do | VERB | do\n",
      "this | PRON | this\n",
      "all | DET | all\n",
      "day | NOUN | day\n"
     ]
    }
   ],
   "source": [
    "doc = nlp(\"captain america ate 100$ of samosa. Then he said I can do this all day\")\n",
    "\n",
    "for token in doc:\n",
    "    print(token, '|', token.pos_, '|', token.lemma_) # pos_ : part of speech, lemma_ : root word"
   ]
  }
 ],
 "metadata": {
  "kernelspec": {
   "display_name": "base",
   "language": "python",
   "name": "python3"
  },
  "language_info": {
   "codemirror_mode": {
    "name": "ipython",
    "version": 3
   },
   "file_extension": ".py",
   "mimetype": "text/x-python",
   "name": "python",
   "nbconvert_exporter": "python",
   "pygments_lexer": "ipython3",
   "version": "3.12.7"
  }
 },
 "nbformat": 4,
 "nbformat_minor": 2
}
